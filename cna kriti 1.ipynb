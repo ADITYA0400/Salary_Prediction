{
 "cells": [
  {
   "cell_type": "code",
   "execution_count": 109,
   "metadata": {},
   "outputs": [],
   "source": [
    "# linear algebra\n",
    "import numpy as np\n",
    " \n",
    "# data processing\n",
    "import pandas as pd\n",
    " \n",
    "# data visualization\n",
    "import matplotlib.pyplot as plt\n",
    "import seaborn as sns\n",
    " \n",
    "# Algorithms\n",
    "from sklearn import preprocessing\n",
    "from sklearn.preprocessing import LabelEncoder, label_binarize\n",
    "from sklearn.model_selection import train_test_split\n",
    "from sklearn import linear_model\n",
    "from sklearn.linear_model import LogisticRegression\n",
    "from sklearn.metrics import accuracy_score\n",
    "from sklearn.neighbors import KNeighborsClassifier\n",
    "from sklearn.tree import DecisionTreeClassifier\n",
    "from sklearn.model_selection import train_test_split, GridSearchCV, StratifiedKFold, cross_val_score\n",
    "from sklearn.model_selection import cross_validate\n",
    "from sklearn.metrics import accuracy_score, precision_score, recall_score, roc_curve, precision_recall_curve, auc, make_scorer, confusion_matrix, f1_score, fbeta_score, roc_auc_score\n",
    "# Import the Naive Bayes, logistic regression, Bagging, RandomForest, AdaBoost, GradientBoost, Decision Trees and SVM Classifier\n",
    "from sklearn.naive_bayes import MultinomialNB\n",
    "from sklearn.ensemble import BaggingClassifier, RandomForestClassifier, AdaBoostClassifier, GradientBoostingClassifier\n"
   ]
  },
  {
   "cell_type": "code",
   "execution_count": 110,
   "metadata": {},
   "outputs": [],
   "source": [
    "train = pd.read_csv(\"training_data.csv\")\n",
    "test = pd.read_csv(\"testing_data.csv\")"
   ]
  },
  {
   "cell_type": "code",
   "execution_count": 111,
   "metadata": {},
   "outputs": [
    {
     "data": {
      "text/plain": [
       "(3000, 36)"
      ]
     },
     "execution_count": 111,
     "metadata": {},
     "output_type": "execute_result"
    }
   ],
   "source": [
    "train.shape"
   ]
  },
  {
   "cell_type": "code",
   "execution_count": 112,
   "metadata": {},
   "outputs": [
    {
     "data": {
      "text/plain": [
       "(998, 35)"
      ]
     },
     "execution_count": 112,
     "metadata": {},
     "output_type": "execute_result"
    }
   ],
   "source": [
    "test.shape"
   ]
  },
  {
   "cell_type": "code",
   "execution_count": 113,
   "metadata": {},
   "outputs": [
    {
     "data": {
      "text/plain": [
       "array([ 200000,  190000,  335000,  325000,  360000,  100000, 1200000,\n",
       "        705000,  420000,  700000,  480000,  240000,  775000,  515000,\n",
       "        650000,  350000,  395000,  260000,  150000,  600000,  115000,\n",
       "        250000,  320000,   95000,  470000,  460000,  280000,  345000,\n",
       "        445000,  180000,  440000, 3000000,  220000,  215000,  300000,\n",
       "        120000,  485000,  145000,  270000,  315000,  370000,  630000,\n",
       "        330000,  305000,  310000,  295000,  450000,  400000,  430000,\n",
       "        105000,  265000,  730000,  500000,  555000,  415000,  550000,\n",
       "        505000,  340000,  160000,  375000,  275000,   60000,  135000,\n",
       "        205000,  225000,  170000,  210000,  365000,  140000,  195000,\n",
       "        620000,  455000,   85000,  110000,  290000,  235000,  405000,\n",
       "        390000,  245000,  930000,  435000,  385000,  255000,  950000,\n",
       "        560000,  230000,   70000,  640000,  185000,  425000,  175000,\n",
       "         80000,  565000,   75000,  155000,  715000,  610000,  880000,\n",
       "        725000,  355000,  165000, 1000000,  675000,   50000,  530000,\n",
       "         90000, 1320000,  410000,  660000,  510000,  380000,  490000,\n",
       "       1500000,  800000, 1100000,  285000,  615000,  495000,  860000,\n",
       "       2600000,  520000,  130000,  125000, 2050000,  845000, 1800000,\n",
       "        575000,  570000,  820000,  720000,   35000, 3500000,  850000,\n",
       "         65000,  465000,  540000,  655000,  690000,  810000,  525000,\n",
       "        625000,  475000,  144000, 2300000,  590000, 1300000,   40000,\n",
       "        785000,  755000,   45000, 1030000,  925000,  585000,  750000,\n",
       "         55000,  645000,  545000,  760000, 1745000, 2020000,  580000,\n",
       "        900000,  605000, 1110000,  535000,  680000, 2000000], dtype=int64)"
      ]
     },
     "execution_count": 113,
     "metadata": {},
     "output_type": "execute_result"
    }
   ],
   "source": [
    "train.Salary.unique()"
   ]
  },
  {
   "cell_type": "code",
   "execution_count": 114,
   "metadata": {},
   "outputs": [
    {
     "name": "stdout",
     "output_type": "stream",
     "text": [
      "<class 'pandas.core.frame.DataFrame'>\n",
      "RangeIndex: 3000 entries, 0 to 2999\n",
      "Data columns (total 36 columns):\n",
      "Unnamed: 0               3000 non-null int64\n",
      "ID                       3000 non-null int64\n",
      "Salary                   3000 non-null int64\n",
      "JobCity                  3000 non-null object\n",
      "Gender                   3000 non-null object\n",
      "DOB                      3000 non-null object\n",
      "10percentage             2808 non-null float64\n",
      "10board                  3000 non-null object\n",
      "12graduation             2555 non-null float64\n",
      "12percentage             3000 non-null float64\n",
      "12board                  3000 non-null object\n",
      "CollegeID                3000 non-null int64\n",
      "CollegeTier              3000 non-null int64\n",
      "Degree                   3000 non-null object\n",
      "Specialization           2848 non-null object\n",
      "collegeGPA               3000 non-null float64\n",
      "CollegeCityID            2843 non-null float64\n",
      "CollegeCityTier          3000 non-null int64\n",
      "CollegeState             3000 non-null object\n",
      "GraduationYear           3000 non-null int64\n",
      "English                  3000 non-null int64\n",
      "Logical                  3000 non-null int64\n",
      "Quant                    3000 non-null int64\n",
      "Domain                   3000 non-null float64\n",
      "ComputerProgramming      3000 non-null int64\n",
      "ElectronicsAndSemicon    3000 non-null int64\n",
      "ComputerScience          3000 non-null int64\n",
      "MechanicalEngg           3000 non-null int64\n",
      "ElectricalEngg           3000 non-null int64\n",
      "TelecomEngg              3000 non-null int64\n",
      "CivilEngg                3000 non-null int64\n",
      "conscientiousness        2749 non-null float64\n",
      "agreeableness            3000 non-null float64\n",
      "extraversion             3000 non-null float64\n",
      "nueroticism              2544 non-null float64\n",
      "openess_to_experience    3000 non-null float64\n",
      "dtypes: float64(11), int64(17), object(8)\n",
      "memory usage: 843.8+ KB\n"
     ]
    }
   ],
   "source": [
    "train.info()"
   ]
  },
  {
   "cell_type": "code",
   "execution_count": 115,
   "metadata": {},
   "outputs": [
    {
     "data": {
      "text/plain": [
       "array(['Bangalore', 'Chennai', 'Chennai & Mumbai', 'Noida', 'kolhapur',\n",
       "       'hyderabad', 'New Delhi', 'Navi Mumbai', 'Mumbai', 'sampla',\n",
       "       'Dammam', '-1', 'Rewari', 'Pune', 'Kolkata', 'Lucknow', 'Gurgaon',\n",
       "       'Faridabad', 'Jodhpur', 'Indore', 'Jaipur', 'Bathinda',\n",
       "       'Hyderabad', 'Mysore', 'Greater Noida', 'noida', 'Patna', 'mohali',\n",
       "       'Rourkela', 'CHENNAI', 'Ernakulam', 'Bangalore ', 'Bhubaneshwar',\n",
       "       'pune', 'Coimbatore', 'Banglore', 'bangalore', 'Unnao',\n",
       "       'Bhubaneswar', 'Siliguri ', 'Delhi', 'indore', 'Neemrana',\n",
       "       'Bhopal', 'muzzafarpur', 'Ongole', 'jaipur', 'Shahdol',\n",
       "       'Trivandrum', 'Pondicherry', ' Pune', 'jAipur', 'Madurai ',\n",
       "       'Bahadurgarh', 'Vellore', 'Thane', 'Bilaspur', 'Rajasthan',\n",
       "       'Mangalore', 'Vijayawada', 'mumbai', 'Karnal', 'Kochi', 'pune ',\n",
       "       'Hyderabad ', 'Ghaziabad', 'Nashik', 'Pune ', 'Greater noida',\n",
       "       'Chandigarh', 'Nasikcity', 'Haldia', 'KOLKATA', 'Rajkot',\n",
       "       'Bengaluru', 'Gurgaon ', ' Delhi', 'Muzaffarpur', 'ghaziabad',\n",
       "       'Aurangabad', 'Roorkee', 'Muzaffarnagar', 'karnal', 'Dubai',\n",
       "       'chennai', 'BANGALORE ', 'udaipur', 'Ahmedabad', 'Tornagallu',\n",
       "       'gurgoan', 'Dehradun', 'trivandrum', 'HYDERABAD',\n",
       "       'hyderabad(bhadurpally)', ' Mumbai', 'Agra', 'Chennai ', 'Beawar',\n",
       "       'PUNE', 'Gonda', 'Siliguri', 'Raipur', 'bihar', 'Visakhapatnam',\n",
       "       'TRIVANDRUM', 'Kanpur', 'GURGOAN', 'Belgaum', 'bhubaneswar',\n",
       "       'kudankulam ,tarapur', 'Pilani', 'Dharmapuri', 'Madurai', 'Noida ',\n",
       "       'Phagwara', 'Chennai, Bangalore', 'Trichy', 'Kochi/Cochin',\n",
       "       'new delhi', 'Hubli', 'Kolkata`', 'gurgaon', 'Chandrapur',\n",
       "       'Hissar', 'Ahmednagar', 'Nagpur', 'kolkata', 'Bareli',\n",
       "       'Banagalore', 'AM', 'Thiruvananthapuram', 'THANE', 'Jamshedpur',\n",
       "       'Mysore ', 'Ambala', 'Jeddah Saudi Arabia', 'kharagpur',\n",
       "       'vsakhapttnam', 'sonepat', 'patna', 'Surat', 'Chandigarh ',\n",
       "       'Gandhi Nagar', 'Tirupati', 'Jalandhar', 'Mettur, Tamil Nadu ',\n",
       "       'new delhi - jaisalmer', 'Haridwar', 'New Delhi ', 'Alwar',\n",
       "       'Durgapur', 'Australia', ' bangalore', 'Jabalpur', 'Khopoli',\n",
       "       'delhi', 'Muvattupuzha', 'Sonipat', 'ranchi', 'haryana', 'Nagpur ',\n",
       "       'Dhanbad', 'Gandhinagar', 'Bulandshahar', 'new dehli', 'Ranchi',\n",
       "       'Jhansi', 'kala amb ', 'Mohali', 'keral', 'RAE BARELI', 'Howrah',\n",
       "       'NOIDA', 'Rohtak', 'Asansol', 'Burdwan', 'banglore', 'Tirupathi',\n",
       "       'Dharuhera', 'dehradun', 'Jaspur', 'Kalmar, Sweden', 'bengaluru',\n",
       "       'Mumbai ', 'coimbatore', 'Secunderabad', 'Tirunelvelli', 'Ganjam',\n",
       "       'Ranchi ', 'Baroda', 'LUCKNOW', 'manesar', 'Pantnagar',\n",
       "       'Miryalaguda', 'CHEYYAR', 'vizag',\n",
       "       'Kochi/Cochin, Chennai and Coimbatore', 'Bankura', 'GURGAON',\n",
       "       'Maharajganj', ' Chennai', 'Rayagada, Odisha', 'punr', 'Banglore ',\n",
       "       'Asifabadbanglore', 'PATNA', 'Greater NOIDA', 'DELHI', 'GURAGAON',\n",
       "       'SHAHDOL', 'Gorakhpur', 'Rajpura', 'Karad', 'Punchkula', 'lucknow',\n",
       "       'MEERUT', 'thane', 'latur (Maharashtra )', 'Delhi/NCR',\n",
       "       'Sahibabad', 'Bundi', 'Dharamshala', 'Jaipur ', 'Nanded', 'Shimla',\n",
       "       'Baddi HP', 'NEW DELHI', 'Bhiwadi', 'Bhagalpur', 'Ludhiana',\n",
       "       'Gurga', 'Jagdalpur', 'Baripada', 'pondi', 'Johannesburg',\n",
       "       'Bharuch', 'Panchkula', 'Bikaner', 'chandigarh', 'VIZAG',\n",
       "       'bangalore ', 'Ahmedabad ', 'GREATER NOIDA', 'Bhubneshwar',\n",
       "       'kanpur', 'ncr', 'vapi', 'BHOPAL', 'Navi mumbai', 'Trichur',\n",
       "       'hderabad', 'Bhubaneswar ', 'BANGALORE', 'Trivandrum ', 'Jhajjar',\n",
       "       'Nalagarh', 'Yamuna Nagar', 'Calicut', 'angul', 'KANPUR',\n",
       "       'Kanpur ', 'Daman and Diu', ' ariyalur', 'Patiala', 'mysore',\n",
       "       'SADULPUR,RAJGARH,DISTT-CHURU,RAJASTHAN', 'noida ', 'Manesar',\n",
       "       'Nellore', 'mumbai ', 'Al Jubail,Saudi Arabia', 'Guwahati',\n",
       "       'raipur', 'Mainpuri', 'Bhopal ', 'Gurgoan', 'Jowai'], dtype=object)"
      ]
     },
     "execution_count": 115,
     "metadata": {},
     "output_type": "execute_result"
    }
   ],
   "source": [
    "train.JobCity.unique()"
   ]
  },
  {
   "cell_type": "code",
   "execution_count": 116,
   "metadata": {},
   "outputs": [],
   "source": [
    "train['JobCity'] = train['JobCity'].str.lower()"
   ]
  },
  {
   "cell_type": "code",
   "execution_count": 117,
   "metadata": {},
   "outputs": [],
   "source": [
    "train['JobCity'] = train['JobCity'].replace(['bangalore', 'bangalore ','banglore', 'bangalore','bengaluru',\n",
    "                                            'banagalore', ' bangalore', 'banglore', 'banglore', 'banglore ', 'asifabadbanglore', 'bangalore ','bangalore '], 'bangalore')"
   ]
  },
  {
   "cell_type": "code",
   "execution_count": 154,
   "metadata": {},
   "outputs": [
    {
     "data": {
      "text/plain": [
       "array(['bangalore', 'chennai', 'chennai & mumbai', 'noida', 'kolhapur',\n",
       "       'hyderabad', 'new delhi', 'navi mumbai', 'mumbai', 'sampla',\n",
       "       'dammam', 'rewari', 'pune', 'kolkata', 'lucknow', 'gurgaon',\n",
       "       'faridabad', 'jodhpur', 'indore', 'jaipur', 'bathinda', 'mysore',\n",
       "       'patna', 'mohali', 'rourkela', 'ernakulam', 'bhubaneshwar',\n",
       "       'coimbatore', 'unnao', 'siliguri', 'neemrana', 'bhopal',\n",
       "       'muzaffarpur', 'ongole', 'shahdol', 'trivandrum', 'pondicherry',\n",
       "       'madurai', 'bahadurgarh', 'vellore', 'thane', 'bilaspur',\n",
       "       'rajasthan', 'mangalore', 'vijayawada', 'karnal', 'kochi',\n",
       "       'ghaziabad', 'nashik', 'chandigarh', 'haldia', 'rajkot',\n",
       "       'aurangabad', 'roorkee', 'muzaffarnagar', 'dubai', 'udaipur',\n",
       "       'ahmedabad', 'tornagallu', 'dehradun', 'agra', 'beawar', 'gonda',\n",
       "       'raipur', 'bihar', 'vizag', 'kanpur', 'belgaum',\n",
       "       'kudankulam ,tarapur', 'pilani', 'dharmapuri', 'phagwara',\n",
       "       'chennai, bangalore', 'trichur', 'kochi/cochin', 'hubli',\n",
       "       'chandrapur', 'hissar', 'ahmednagar', 'nagpur', 'bareli', 'am',\n",
       "       'jamshedpur', 'ambala', 'jeddah saudi arabia', 'kharagpur',\n",
       "       'sonipat', 'surat', 'gandhinagar', 'tirupati', 'jalandhar',\n",
       "       'mettur, tamil nadu ', 'new delhi - jaisalmer', 'haridwar',\n",
       "       'alwar', 'durgapur', 'australia', 'jabalpur', 'khopoli',\n",
       "       'muvattupuzha', 'ranchi', 'haryana', 'dhanbad', 'bulandshahar',\n",
       "       'jhansi', 'kala amb ', 'keral', 'howrah', 'rohtak', 'asansol',\n",
       "       'burdwan', 'dharuhera', 'jaspur', 'kalmar, sweden', 'secunderabad',\n",
       "       'tirunelvelli', 'ganjam', 'baroda', 'manesar', 'pantnagar',\n",
       "       'miryalaguda', 'cheyyar', 'kochi/cochin, chennai and coimbatore',\n",
       "       'bankura', 'maharajganj', 'rayagada, odisha', 'gorakhpur',\n",
       "       'rajpura', 'karad', 'punchkula', 'meerut', 'latur (maharashtra )',\n",
       "       'ncr', 'sahibabad', 'bundi', 'dharamshala', 'nanded', 'shimla',\n",
       "       'baddi hp', 'bhiwadi', 'bhagalpur', 'ludhiana', 'jagdalpur',\n",
       "       'baripada', 'pondi', 'johannesburg', 'bharuch', 'panchkula',\n",
       "       'bikaner', 'vapi', 'jhajjar', 'nalagarh', 'yamuna nagar',\n",
       "       'calicut', 'angul', 'daman and diu', ' ariyalur', 'patiala',\n",
       "       'sadulpur,rajgarh,distt-churu,rajasthan', 'nellore',\n",
       "       'al jubail,saudi arabia', 'guwahati', 'mainpuri', 'jowai'],\n",
       "      dtype=object)"
      ]
     },
     "execution_count": 154,
     "metadata": {},
     "output_type": "execute_result"
    }
   ],
   "source": [
    "train.JobCity.unique()"
   ]
  },
  {
   "cell_type": "code",
   "execution_count": 119,
   "metadata": {},
   "outputs": [],
   "source": [
    "train['JobCity'] = train['JobCity'].replace(['bhubaneshwar', 'bhubaneswar','bhubneshwar', 'bhubaneswar '], 'bhubaneshwar')"
   ]
  },
  {
   "cell_type": "code",
   "execution_count": 120,
   "metadata": {},
   "outputs": [],
   "source": [
    "train['JobCity'] = train['JobCity'].replace(['new delhi', 'delhi',' delhi', 'new delhi ','new dehli'], 'new delhi')"
   ]
  },
  {
   "cell_type": "code",
   "execution_count": 121,
   "metadata": {},
   "outputs": [],
   "source": [
    "train['JobCity'] = train['JobCity'].replace(['bhopal', 'bhopal '], 'bhopal')"
   ]
  },
  {
   "cell_type": "code",
   "execution_count": 122,
   "metadata": {},
   "outputs": [],
   "source": [
    "train['JobCity'] = train['JobCity'].replace(['sonepat', 'sonipat'], 'sonipat')"
   ]
  },
  {
   "cell_type": "code",
   "execution_count": 123,
   "metadata": {},
   "outputs": [],
   "source": [
    "train['JobCity'] = train['JobCity'].replace(['tirupati', 'tirupathi'], 'tirupati')"
   ]
  },
  {
   "cell_type": "code",
   "execution_count": 124,
   "metadata": {},
   "outputs": [],
   "source": [
    "train['JobCity'] = train['JobCity'].replace(['hyderabad', 'hyderabad ', 'hyderabad(bhadurpally)','hderabad'], 'hyderabad')"
   ]
  },
  {
   "cell_type": "code",
   "execution_count": 125,
   "metadata": {},
   "outputs": [],
   "source": [
    "train['JobCity'] = train['JobCity'].replace(['gurgaon', 'gurgaon ', 'gurga', 'gurgoan', 'guragaon'], 'gurgaon')"
   ]
  },
  {
   "cell_type": "code",
   "execution_count": 126,
   "metadata": {},
   "outputs": [],
   "source": [
    "train['JobCity'] = train['JobCity'].replace(['noida', 'greater noida','noida '], 'noida')"
   ]
  },
  {
   "cell_type": "code",
   "execution_count": 127,
   "metadata": {},
   "outputs": [],
   "source": [
    "train['JobCity'] = train['JobCity'].replace(['pune', ' pune','pune ','punr'], 'pune')"
   ]
  },
  {
   "cell_type": "code",
   "execution_count": 128,
   "metadata": {},
   "outputs": [],
   "source": [
    "train['JobCity'] = train['JobCity'].replace(['muzzafarpur', 'muzaffarpur'], 'muzaffarpur')"
   ]
  },
  {
   "cell_type": "code",
   "execution_count": 129,
   "metadata": {},
   "outputs": [],
   "source": [
    "train['JobCity'] = train['JobCity'].replace(['jaipur', 'jaipur '], 'jaipur')"
   ]
  },
  {
   "cell_type": "code",
   "execution_count": 130,
   "metadata": {},
   "outputs": [],
   "source": [
    "train['JobCity'] = train['JobCity'].replace(['kanpur', 'kanpur '], 'kanpur')"
   ]
  },
  {
   "cell_type": "code",
   "execution_count": 131,
   "metadata": {},
   "outputs": [],
   "source": [
    "train['JobCity'] = train['JobCity'].replace(['nagpur', 'nagpur '], 'nagpur')"
   ]
  },
  {
   "cell_type": "code",
   "execution_count": 132,
   "metadata": {},
   "outputs": [],
   "source": [
    "train['JobCity'] = train['JobCity'].replace(['thiruvananthapuram', 'trivandrum','trivandrum '], 'trivandrum')"
   ]
  },
  {
   "cell_type": "code",
   "execution_count": 133,
   "metadata": {},
   "outputs": [],
   "source": [
    "train['JobCity'] = train['JobCity'].replace(['vsakhapttnam', 'vizag','vishakhapatnam','visakhapatnam'], 'vizag')"
   ]
  },
  {
   "cell_type": "code",
   "execution_count": 134,
   "metadata": {},
   "outputs": [],
   "source": [
    "train['JobCity'] = train['JobCity'].replace(['gandhi nagar','gandhinagar'], 'gandhinagar')"
   ]
  },
  {
   "cell_type": "code",
   "execution_count": 135,
   "metadata": {},
   "outputs": [],
   "source": [
    "train['JobCity'] = train['JobCity'].replace(['chennai', 'chennai ',' chennai'], 'chennai')"
   ]
  },
  {
   "cell_type": "code",
   "execution_count": 136,
   "metadata": {},
   "outputs": [],
   "source": [
    "train['JobCity'] = train['JobCity'].replace(['delhi/ncr','ncr'], 'ncr')"
   ]
  },
  {
   "cell_type": "code",
   "execution_count": 137,
   "metadata": {},
   "outputs": [],
   "source": [
    "train['JobCity'] = train['JobCity'].replace(['trichy','trichur'], 'trichur')"
   ]
  },
  {
   "cell_type": "code",
   "execution_count": 138,
   "metadata": {},
   "outputs": [],
   "source": [
    "train['JobCity'] = train['JobCity'].replace(['nasikcity','nashik'], 'nashik')"
   ]
  },
  {
   "cell_type": "code",
   "execution_count": 139,
   "metadata": {},
   "outputs": [],
   "source": [
    "train['JobCity'] = train['JobCity'].replace(['madurai ','madurai'], 'madurai')"
   ]
  },
  {
   "cell_type": "code",
   "execution_count": 140,
   "metadata": {},
   "outputs": [],
   "source": [
    "train['JobCity'] = train['JobCity'].replace([' mumbai','mumbai '], 'mumbai')"
   ]
  },
  {
   "cell_type": "code",
   "execution_count": 141,
   "metadata": {},
   "outputs": [],
   "source": [
    "train['JobCity'] = train['JobCity'].replace(['kolkata ','kolkata`'], 'kolkata')"
   ]
  },
  {
   "cell_type": "code",
   "execution_count": 142,
   "metadata": {},
   "outputs": [],
   "source": [
    "train['JobCity'] = train['JobCity'].replace(['siliguri '], 'siliguri')"
   ]
  },
  {
   "cell_type": "code",
   "execution_count": 143,
   "metadata": {},
   "outputs": [],
   "source": [
    "train['JobCity'] = train['JobCity'].replace(['mysore '], 'mysore')"
   ]
  },
  {
   "cell_type": "code",
   "execution_count": 144,
   "metadata": {},
   "outputs": [],
   "source": [
    "train['JobCity'] = train['JobCity'].replace(['rae bareli'], 'bareli')"
   ]
  },
  {
   "cell_type": "code",
   "execution_count": 145,
   "metadata": {},
   "outputs": [],
   "source": [
    "train['JobCity'] = train['JobCity'].replace(['ahmedabad '], 'ahmedabad')"
   ]
  },
  {
   "cell_type": "code",
   "execution_count": 146,
   "metadata": {},
   "outputs": [],
   "source": [
    "train['JobCity'] = train['JobCity'].replace(['chandigarh '], 'chandigarh')"
   ]
  },
  {
   "cell_type": "code",
   "execution_count": 147,
   "metadata": {},
   "outputs": [],
   "source": [
    "train['JobCity'] = train['JobCity'].replace(['ranchi '], 'ranchi')"
   ]
  },
  {
   "cell_type": "code",
   "execution_count": 148,
   "metadata": {},
   "outputs": [
    {
     "data": {
      "text/plain": [
       "bangalore                528\n",
       "-1                       347\n",
       "noida                    301\n",
       "hyderabad                263\n",
       "pune                     246\n",
       "chennai                  238\n",
       "gurgaon                  173\n",
       "new delhi                170\n",
       "kolkata                   91\n",
       "mumbai                    90\n",
       "jaipur                    43\n",
       "mysore                    32\n",
       "bhubaneshwar              32\n",
       "navi mumbai               26\n",
       "lucknow                   26\n",
       "chandigarh                24\n",
       "indore                    20\n",
       "coimbatore                15\n",
       "bhopal                    14\n",
       "ahmedabad                 13\n",
       "faridabad                 13\n",
       "trivandrum                13\n",
       "kochi/cochin              10\n",
       "mangalore                 10\n",
       "mohali                     9\n",
       "nagpur                     9\n",
       "vizag                      9\n",
       "ghaziabad                  8\n",
       "kanpur                     8\n",
       "patna                      7\n",
       "                        ... \n",
       "bihar                      1\n",
       "am                         1\n",
       "tornagallu                 1\n",
       "maharajganj                1\n",
       "cheyyar                    1\n",
       "jalandhar                  1\n",
       "pondi                      1\n",
       "bikaner                    1\n",
       "jhansi                     1\n",
       "bharuch                    1\n",
       "australia                  1\n",
       "jhajjar                    1\n",
       "muzaffarnagar              1\n",
       "vellore                    1\n",
       "nanded                     1\n",
       "chennai & mumbai           1\n",
       "nellore                    1\n",
       "durgapur                   1\n",
       "baddi hp                   1\n",
       "rajkot                     1\n",
       "bathinda                   1\n",
       "latur (maharashtra )       1\n",
       "agra                       1\n",
       "kudankulam ,tarapur        1\n",
       "bulandshahar               1\n",
       "rourkela                   1\n",
       "alwar                      1\n",
       "new delhi - jaisalmer      1\n",
       "chennai, bangalore         1\n",
       "sahibabad                  1\n",
       "Name: JobCity, Length: 165, dtype: int64"
      ]
     },
     "execution_count": 148,
     "metadata": {},
     "output_type": "execute_result"
    }
   ],
   "source": [
    "train.JobCity.value_counts()"
   ]
  },
  {
   "cell_type": "code",
   "execution_count": 149,
   "metadata": {},
   "outputs": [],
   "source": [
    "a  = train[train.JobCity == '-1'].index"
   ]
  },
  {
   "cell_type": "code",
   "execution_count": 150,
   "metadata": {},
   "outputs": [],
   "source": [
    "train.drop(a,inplace = True)"
   ]
  },
  {
   "cell_type": "code",
   "execution_count": 151,
   "metadata": {},
   "outputs": [
    {
     "data": {
      "text/plain": [
       "(2653, 36)"
      ]
     },
     "execution_count": 151,
     "metadata": {},
     "output_type": "execute_result"
    }
   ],
   "source": [
    "train.shape"
   ]
  },
  {
   "cell_type": "code",
   "execution_count": 155,
   "metadata": {},
   "outputs": [
    {
     "data": {
      "text/plain": [
       "164"
      ]
     },
     "execution_count": 155,
     "metadata": {},
     "output_type": "execute_result"
    }
   ],
   "source": [
    " train.JobCity.nunique()"
   ]
  },
  {
   "cell_type": "code",
   "execution_count": 153,
   "metadata": {},
   "outputs": [
    {
     "ename": "NameError",
     "evalue": "name 'py' is not defined",
     "output_type": "error",
     "traceback": [
      "\u001b[1;31m---------------------------------------------------------------------------\u001b[0m",
      "\u001b[1;31mNameError\u001b[0m                                 Traceback (most recent call last)",
      "\u001b[1;32m<ipython-input-153-795e6f5c6f1a>\u001b[0m in \u001b[0;36m<module>\u001b[1;34m\u001b[0m\n\u001b[1;32m----> 1\u001b[1;33m \u001b[0mpy\u001b[0m\u001b[1;33m\u001b[0m\u001b[1;33m\u001b[0m\u001b[0m\n\u001b[0m",
      "\u001b[1;31mNameError\u001b[0m: name 'py' is not defined"
     ]
    }
   ],
   "source": [
    "py"
   ]
  },
  {
   "cell_type": "code",
   "execution_count": null,
   "metadata": {},
   "outputs": [],
   "source": []
  }
 ],
 "metadata": {
  "kernelspec": {
   "display_name": "Python 3",
   "language": "python",
   "name": "python3"
  },
  "language_info": {
   "codemirror_mode": {
    "name": "ipython",
    "version": 3
   },
   "file_extension": ".py",
   "mimetype": "text/x-python",
   "name": "python",
   "nbconvert_exporter": "python",
   "pygments_lexer": "ipython3",
   "version": "3.7.4"
  }
 },
 "nbformat": 4,
 "nbformat_minor": 2
}
